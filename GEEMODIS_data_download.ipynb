{
  "cells": [
    {
      "cell_type": "markdown",
      "metadata": {
        "id": "view-in-github",
        "colab_type": "text"
      },
      "source": [
        "<a href=\"https://colab.research.google.com/github/anaguilarar/agwise_data_sourcing/blob/main/GEEMODIS_data_download.ipynb\" target=\"_parent\"><img src=\"https://colab.research.google.com/assets/colab-badge.svg\" alt=\"Open In Colab\"/></a>"
      ]
    },
    {
      "cell_type": "code",
      "execution_count": null,
      "metadata": {
        "id": "5qFQLTD4grP_"
      },
      "outputs": [],
      "source": [
        "### INITIAL configuration\n",
        "\n",
        "configuration = {\n",
        "    'GENERAL_SETTINGS':{\n",
        "      'ee_project_name': 'ee-anaguilarar'\n",
        "\n",
        "      },\n",
        "    'PREPROCESSING':{\n",
        "        'crop_mask': True,\n",
        "        'crop_mask_product': 'ESA'\n",
        "    },\n",
        "    'DATA_DOWNLOAD':\n",
        "     {\n",
        "      'ADM0_NAME': 'Kenya',\n",
        "      'ADM1_NAME': 'Coast',\n",
        "      'ADM2_NAME': None,\n",
        "      'product': 'MOD13Q1',\n",
        "      'starting_date': '2023-01-01',\n",
        "      'ending_date': '2023-12-01',\n",
        "\n",
        "    }\n",
        "}\n"
      ]
    },
    {
      "cell_type": "code",
      "execution_count": null,
      "metadata": {
        "id": "lmjAUfWvnVSZ"
      },
      "outputs": [],
      "source": [
        "import os\n",
        "\n",
        "if not os.path.exists('agwise_data_sourcing'):\n",
        "  !git clone https://github.com/anaguilarar/agwise_data_sourcing.git\n",
        "  os.chdir('/content/agwise_data_sourcing')\n",
        "else:\n",
        "  os.chdir('/content/agwise_data_sourcing')\n"
      ]
    },
    {
      "cell_type": "code",
      "execution_count": null,
      "metadata": {
        "id": "n4xEg51YnfV1"
      },
      "outputs": [],
      "source": [
        "from gee_datasets.gee_data import GEEMODIS\n",
        "import ee\n",
        "ee.Initialize(project=configuration['GENERAL_SETTINGS']['ee_project_name'])\n"
      ]
    },
    {
      "cell_type": "code",
      "execution_count": null,
      "metadata": {
        "id": "x7AIeeo_kql6"
      },
      "outputs": [],
      "source": [
        "data_downloader = GEEMODIS(configuration['DATA_DOWNLOAD']['ADM0_NAME'], configuration['DATA_DOWNLOAD']['product'])\n",
        "data_downloader.initialize_query(configuration['DATA_DOWNLOAD']['starting_date'], configuration['DATA_DOWNLOAD']['ending_date'])\n"
      ]
    },
    {
      "cell_type": "code",
      "execution_count": null,
      "metadata": {
        "id": "KAYxxOvtrvgf"
      },
      "outputs": [],
      "source": [
        "data_downloader.plot_time_series('NDVI')"
      ]
    },
    {
      "cell_type": "code",
      "execution_count": null,
      "metadata": {
        "id": "LDoBDhQDigxt"
      },
      "outputs": [],
      "source": [
        "from gee_datasets.processing_funs import fill_gaps_linear, smooth_ts_using_savitsky_golay_modis, summarize_collection_tots\n",
        "import matplotlib.pyplot as plt\n",
        "\n",
        "data_filled = fill_gaps_linear(data_downloader.query, 'NDVI')\n",
        "\n",
        "print(\"First smoothed image properties:\",\n",
        "      ee.Image(data_filled.first()).getInfo()[\"properties\"])\n",
        "\n"
      ]
    },
    {
      "cell_type": "code",
      "execution_count": null,
      "metadata": {
        "id": "IxSVUorIkkVR"
      },
      "outputs": [],
      "source": [
        "band = 'NDVI'\n",
        "result = smooth_ts_using_savitsky_golay_modis(data_filled.select('NDVI'), window_size = 5)\n",
        "print(\"First smoothed image properties:\",\n",
        "      ee.Image(result.first()).getInfo()[\"properties\"])\n"
      ]
    },
    {
      "cell_type": "code",
      "execution_count": null,
      "metadata": {
        "id": "FrnibwTRnJbb"
      },
      "outputs": [],
      "source": [
        "from utils.plots import plot_time_series_from_ic\n",
        "\n",
        "band2 = 'NDVI_smooth'\n",
        "\n",
        "df = plot_time_series_from_ic(\n",
        "    ic=ee.ImageCollection(result),\n",
        "    band=band2,\n",
        "    summarize_fn=summarize_collection_tots,\n",
        "    region_filter=data_downloader.country_filter,\n",
        "    title=f\"{band2} smoothed time series\"\n",
        ")\n"
      ]
    },
    {
      "cell_type": "markdown",
      "metadata": {
        "id": "spysHon7ULY1"
      },
      "source": [
        "## CROP MASK"
      ]
    },
    {
      "cell_type": "code",
      "execution_count": null,
      "metadata": {
        "id": "h-mY4wk-UFTv"
      },
      "outputs": [],
      "source": [
        "from gee_datasets.gee_data import GEECropMask, GEEMODIS\n",
        "\n",
        "\n",
        "data_downloader = GEEMODIS(configuration['DATA_DOWNLOAD']['ADM0_NAME'], configuration['DATA_DOWNLOAD']['product'])\n",
        "data_downloader.initialize_query(configuration['DATA_DOWNLOAD']['starting_date'], configuration['DATA_DOWNLOAD']['ending_date'])\n",
        "\n",
        "\n",
        "cropmask_downloader = GEECropMask(configuration['DATA_DOWNLOAD']['ADM0_NAME'], configuration['PREPROCESSING']['crop_mask_product'])\n",
        "cropmask_downloader.initialize_query()\n",
        "\n",
        "crop_mask = ee.Image(cropmask_downloader.query.first()).clip(cropmask_downloader.country_filter).eq(cropmask_downloader.crop_mask_value[cropmask_downloader.product])\n",
        "\n"
      ]
    },
    {
      "cell_type": "code",
      "execution_count": null,
      "metadata": {
        "id": "UVH7Nn2M65bl"
      },
      "outputs": [],
      "source": [
        "data_downloader.country_filter\n",
        "\n",
        "dataset = ee.FeatureCollection(data_downloader._global_adiminstrative_data.format(adm_level='ADM1'))\n",
        "dataset.filter(ee.Filter.eq('shapeName', 'Busia'))\n"
      ]
    },
    {
      "cell_type": "code",
      "execution_count": null,
      "metadata": {
        "id": "6L4xi79xdIM8"
      },
      "outputs": [],
      "source": [
        "from gee_datasets.processing_funs import fill_gaps_linear, smooth_ts_using_savitsky_golay_modis\n",
        "\n",
        "data_filled = fill_gaps_linear(data_downloader.query, 'NDVI')\n",
        "\n",
        "\n",
        "datamasked = data_downloader.query.first().clip(cropmask_downloader.country_filter).updateMask(crop_mask)\n",
        "\n",
        "data_filled_masked = data_filled.first().clip(cropmask_downloader.country_filter).updateMask(crop_mask)\n",
        "\n",
        "data_filled_SG = smooth_ts_using_savitsky_golay_modis(data_filled.select('NDVI'), window_size = 5)\n",
        "\n",
        "\n",
        "data_filled_SG_masked = data_filled_SG.first().clip(cropmask_downloader.country_filter).updateMask(crop_mask)"
      ]
    },
    {
      "cell_type": "code",
      "execution_count": null,
      "metadata": {
        "id": "cCGZmQj3Yrpg"
      },
      "outputs": [],
      "source": [
        "import geemap\n",
        "\n",
        "\n",
        "# Create a map\n",
        "Map = geemap.Map(center=[-1.37, 38.01], zoom=8)  # Centered on Kitui, Kenya (example coords)\n",
        "\n",
        "# Define visualization parameters\n",
        "vis_params = {\n",
        "    'min': 0,\n",
        "    'max': 1,\n",
        "    'palette': ['white', 'green']  # Adjust based on your mask values\n",
        "}\n",
        "\n",
        "vis_NDVIparams = {\n",
        "    'min': 0,\n",
        "    'max': 10000,\n",
        "\n",
        "}\n",
        "\n",
        "# Add the image layer\n",
        "Map.addLayer(crop_mask, vis_params, \"Masked Crop Image\")\n",
        "\n",
        "Map.addLayer(datamasked.select('NDVI'), vis_NDVIparams, \"NDVI Image\")\n",
        "Map.addLayer(data_filled_masked.select('NDVI'), vis_NDVIparams, \"NDVI Image filled\")\n",
        "Map.addLayer(data_filled_SG_masked.select('NDVI_smooth'), vis_NDVIparams, \"NDVI Image filled + SG\")\n",
        "\n",
        "# Display the map\n",
        "Map"
      ]
    },
    {
      "cell_type": "markdown",
      "metadata": {
        "id": "W45ua5PN65bm"
      },
      "source": [
        "## Download data for a specific administrative level"
      ]
    },
    {
      "cell_type": "code",
      "execution_count": null,
      "metadata": {
        "id": "ksVXiHPX65bn"
      },
      "outputs": [],
      "source": [
        "data_downloader = GEEMODIS(configuration['DATA_DOWNLOAD']['ADM0_NAME'], configuration['DATA_DOWNLOAD']['product'])\n",
        "data_downloader.initialize_query(configuration['DATA_DOWNLOAD']['starting_date'], configuration['DATA_DOWNLOAD']['ending_date'])\n",
        "\n",
        "feature_name = 'Kericho'\n",
        "\n",
        "not_smootheddf = data_downloader.get_adm_timeseries(adm_level='ADM1', feature_name= feature_name, fill_gaps=True, sg = False)\n",
        "smootheddf3 = data_downloader.get_adm_timeseries(adm_level='ADM1', feature_name= feature_name, fill_gaps=True, sg = True, window_size = 3)\n",
        "smootheddf5 = data_downloader.get_adm_timeseries(adm_level='ADM1', feature_name= feature_name, fill_gaps=True, sg = True, window_size = 5)"
      ]
    },
    {
      "cell_type": "code",
      "execution_count": null,
      "metadata": {
        "id": "oYrlujmu65bn"
      },
      "outputs": [],
      "source": [
        "import matplotlib.pyplot as plt\n",
        "\n",
        "plt.figure(figsize=(10, 5))\n",
        "plt.plot(not_smootheddf['date'], not_smootheddf[not_smootheddf.columns[1]], marker='o', linestyle='-', label = 'Raw')\n",
        "plt.plot(smootheddf3['date'], smootheddf3[smootheddf3.columns[1]], marker='o', linestyle='-', c = 'red', label = 'Smoothed window 3')\n",
        "plt.plot(smootheddf5['date'], smootheddf5[smootheddf5.columns[1]], marker='o', linestyle='-', c = 'green', label = 'Smoothed window 5')\n",
        "\n",
        "plt.title(f\"{not_smootheddf.columns[1]} Time Series for {feature_name}\")\n",
        "plt.xlabel(\"Date\")\n",
        "plt.ylabel(not_smootheddf.columns[1])\n",
        "plt.grid(True)\n",
        "plt.legend()\n",
        "plt.show()"
      ]
    },
    {
      "cell_type": "code",
      "execution_count": null,
      "metadata": {
        "id": "y2GNCSz865bn"
      },
      "outputs": [],
      "source": [
        "smootheddf5"
      ]
    }
  ],
  "metadata": {
    "colab": {
      "provenance": [],
      "include_colab_link": true
    },
    "kernelspec": {
      "display_name": "ee_env",
      "language": "python",
      "name": "python3"
    },
    "language_info": {
      "codemirror_mode": {
        "name": "ipython",
        "version": 3
      },
      "file_extension": ".py",
      "mimetype": "text/x-python",
      "name": "python",
      "nbconvert_exporter": "python",
      "pygments_lexer": "ipython3",
      "version": "3.10.0"
    }
  },
  "nbformat": 4,
  "nbformat_minor": 0
}