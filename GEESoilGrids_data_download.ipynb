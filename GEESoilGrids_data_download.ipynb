{
  "cells": [
    {
      "cell_type": "markdown",
      "metadata": {
        "colab_type": "text",
        "id": "view-in-github"
      },
      "source": [
        "<a href=\"https://colab.research.google.com/github/anaguilarar/agwise_data_sourcing/blob/main/GEEMODIS_data_download.ipynb\" target=\"_parent\"><img src=\"https://colab.research.google.com/assets/colab-badge.svg\" alt=\"Open In Colab\"/></a>"
      ]
    },
    {
      "cell_type": "markdown",
      "metadata": {
        "id": "NB2s0vAKTlEY"
      },
      "source": [
        "# Ag-Wise Data Sourcing\n",
        "\n",
        "## SOIL Downloader\n",
        "\n",
        "This tutorial explains how to use this notebook to download soil data from google earth engine"
      ]
    },
    {
      "cell_type": "code",
      "execution_count": null,
      "metadata": {
        "id": "ZA_EThRLUbhc"
      },
      "outputs": [],
      "source": [
        "import os\n",
        "\n",
        "if not os.path.exists('agwise_data_sourcing'):\n",
        "  !git clone https://github.com/anaguilarar/agwise_data_sourcing.git\n",
        "  os.chdir('/content/agwise_data_sourcing')\n",
        "else:\n",
        "  os.chdir('/content/agwise_data_sourcing')"
      ]
    },
    {
      "cell_type": "markdown",
      "metadata": {
        "id": "TO7bOnPoUb-M"
      },
      "source": [
        "## Workflow Overview\n",
        "1. **Country Example Configuration** – Select area and soil property.\n",
        "2. **Soil Data visualization** – Visualize the soil property."
      ]
    },
    {
      "cell_type": "markdown",
      "metadata": {
        "id": "8UC9olg_Un8r"
      },
      "source": [
        "### Country Example Configuration\n",
        "\n",
        "\n",
        "In this section, you will set the parameters for your analysis. Modify the dictionary below to match your region and product of interest.\n",
        "\n",
        "\n",
        "- `ADM0_NAME` define the administrative levels.\n",
        "- `property` sets the MODIS/VIIRS dataset.\n",
        "\n",
        "\n",
        "Example: soil extraction for **Kenya – Coast Province (2023)**"
      ]
    },
    {
      "cell_type": "code",
      "execution_count": 14,
      "metadata": {
        "id": "5qFQLTD4grP_"
      },
      "outputs": [
        {
          "data": {
            "text/html": [
              "\n",
              "            <style>\n",
              "                .geemap-dark {\n",
              "                    --jp-widgets-color: white;\n",
              "                    --jp-widgets-label-color: white;\n",
              "                    --jp-ui-font-color1: white;\n",
              "                    --jp-layout-color2: #454545;\n",
              "                    background-color: #383838;\n",
              "                }\n",
              "\n",
              "                .geemap-dark .jupyter-button {\n",
              "                    --jp-layout-color3: #383838;\n",
              "                }\n",
              "\n",
              "                .geemap-colab {\n",
              "                    background-color: var(--colab-primary-surface-color, white);\n",
              "                }\n",
              "\n",
              "                .geemap-colab .jupyter-button {\n",
              "                    --jp-layout-color3: var(--colab-primary-surface-color, white);\n",
              "                }\n",
              "            </style>\n",
              "            "
            ],
            "text/plain": [
              "<IPython.core.display.HTML object>"
            ]
          },
          "metadata": {},
          "output_type": "display_data"
        }
      ],
      "source": [
        "### INITIAL configuration\n",
        "\n",
        "configuration = {\n",
        "    'GENERAL_SETTINGS':{\n",
        "      'ee_project_name': 'ee-anaguilarar'\n",
        "      },\n",
        "\n",
        "    'DATA_DOWNLOAD':\n",
        "     {\n",
        "      'ADM0_NAME': 'Kenya',\n",
        "      'ADM1_NAME': 'Kericho',\n",
        "      'ADM2_NAME': None,\n",
        "      'property': 'sand',\n",
        "\n",
        "    }\n",
        "}\n"
      ]
    },
    {
      "cell_type": "markdown",
      "metadata": {
        "id": "dV8pNJPIU_-c"
      },
      "source": [
        "- The first time you run this notebook, GEE will request authentication (`ee.Authenticate()`).\n",
        "- Depending on your area size, the data request might take a few minutes."
      ]
    },
    {
      "cell_type": "code",
      "execution_count": 15,
      "metadata": {
        "id": "n4xEg51YnfV1"
      },
      "outputs": [
        {
          "data": {
            "text/html": [
              "\n",
              "            <style>\n",
              "                .geemap-dark {\n",
              "                    --jp-widgets-color: white;\n",
              "                    --jp-widgets-label-color: white;\n",
              "                    --jp-ui-font-color1: white;\n",
              "                    --jp-layout-color2: #454545;\n",
              "                    background-color: #383838;\n",
              "                }\n",
              "\n",
              "                .geemap-dark .jupyter-button {\n",
              "                    --jp-layout-color3: #383838;\n",
              "                }\n",
              "\n",
              "                .geemap-colab {\n",
              "                    background-color: var(--colab-primary-surface-color, white);\n",
              "                }\n",
              "\n",
              "                .geemap-colab .jupyter-button {\n",
              "                    --jp-layout-color3: var(--colab-primary-surface-color, white);\n",
              "                }\n",
              "            </style>\n",
              "            "
            ],
            "text/plain": [
              "<IPython.core.display.HTML object>"
            ]
          },
          "metadata": {},
          "output_type": "display_data"
        }
      ],
      "source": [
        "from gee_datasets.gee_data import GEESoilGrids\n",
        "import ee\n",
        "ee.Initialize(project=configuration['GENERAL_SETTINGS']['ee_project_name'])\n"
      ]
    },
    {
      "cell_type": "markdown",
      "metadata": {
        "id": "wiLbRsbIVJjl"
      },
      "source": [
        "### Data Downloading\n",
        "\n",
        "\n",
        "This section connects to Google Earth Engine, defines your region of interest, and retrieves the vegetation index time series.\n",
        "\n",
        "\n",
        "Steps:\n",
        "1. **Initialize Google Earth Engine (GEE)** with your project.\n",
        "2. **Create the downloader object** (`GEESoilGrids`).\n",
        "3. **Run the query** to retrieve the imagery."
      ]
    },
    {
      "cell_type": "code",
      "execution_count": 16,
      "metadata": {},
      "outputs": [
        {
          "data": {
            "text/html": [
              "\n",
              "            <style>\n",
              "                .geemap-dark {\n",
              "                    --jp-widgets-color: white;\n",
              "                    --jp-widgets-label-color: white;\n",
              "                    --jp-ui-font-color1: white;\n",
              "                    --jp-layout-color2: #454545;\n",
              "                    background-color: #383838;\n",
              "                }\n",
              "\n",
              "                .geemap-dark .jupyter-button {\n",
              "                    --jp-layout-color3: #383838;\n",
              "                }\n",
              "\n",
              "                .geemap-colab {\n",
              "                    background-color: var(--colab-primary-surface-color, white);\n",
              "                }\n",
              "\n",
              "                .geemap-colab .jupyter-button {\n",
              "                    --jp-layout-color3: var(--colab-primary-surface-color, white);\n",
              "                }\n",
              "            </style>\n",
              "            "
            ],
            "text/plain": [
              "<IPython.core.display.HTML object>"
            ]
          },
          "metadata": {},
          "output_type": "display_data"
        },
        {
          "data": {
            "text/plain": [
              "{'bdod': 'projects/soilgrids-isric/bdod_mean',\n",
              " 'cec': 'projects/soilgrids-isric/cec_mean',\n",
              " 'cfvo': 'projects/soilgrids-isric/cfvo_mean',\n",
              " 'clay': 'projects/soilgrids-isric/clay_mean',\n",
              " 'sand': 'projects/soilgrids-isric/sand_mean',\n",
              " 'silt': 'projects/soilgrids-isric/silt_mean',\n",
              " 'nitrogen': 'projects/soilgrids-isric/nitrogen_mean',\n",
              " 'soc': 'projects/soilgrids-isric/soc_mean',\n",
              " 'phh2o': 'projects/soilgrids-isric/phh2o_mean',\n",
              " 'wv0010': 'ISRIC/SoilGrids250m/v2_0/wv0010',\n",
              " 'wv0033': 'ISRIC/SoilGrids250m/v2_0/wv0033',\n",
              " 'wv1500': 'ISRIC/SoilGrids250m/v2_0/wv1500'}"
            ]
          },
          "execution_count": 16,
          "metadata": {},
          "output_type": "execute_result"
        }
      ],
      "source": [
        "data_downloader = GEESoilGrids(configuration['DATA_DOWNLOAD']['ADM0_NAME'])\n",
        "\n",
        "data_downloader.list_of_products"
      ]
    },
    {
      "cell_type": "code",
      "execution_count": 17,
      "metadata": {
        "id": "x7AIeeo_kql6"
      },
      "outputs": [
        {
          "data": {
            "text/html": [
              "\n",
              "            <style>\n",
              "                .geemap-dark {\n",
              "                    --jp-widgets-color: white;\n",
              "                    --jp-widgets-label-color: white;\n",
              "                    --jp-ui-font-color1: white;\n",
              "                    --jp-layout-color2: #454545;\n",
              "                    background-color: #383838;\n",
              "                }\n",
              "\n",
              "                .geemap-dark .jupyter-button {\n",
              "                    --jp-layout-color3: #383838;\n",
              "                }\n",
              "\n",
              "                .geemap-colab {\n",
              "                    background-color: var(--colab-primary-surface-color, white);\n",
              "                }\n",
              "\n",
              "                .geemap-colab .jupyter-button {\n",
              "                    --jp-layout-color3: var(--colab-primary-surface-color, white);\n",
              "                }\n",
              "            </style>\n",
              "            "
            ],
            "text/plain": [
              "<IPython.core.display.HTML object>"
            ]
          },
          "metadata": {},
          "output_type": "display_data"
        },
        {
          "data": {
            "text/html": [
              "<div><style>:root {\n",
              "  --font-color-primary: var(--jp-content-font-color0, rgba(0, 0, 0, 1));\n",
              "  --font-color-secondary: var(--jp-content-font-color2, rgba(0, 0, 0, 0.7));\n",
              "  --font-color-accent: rgba(123, 31, 162, 1);\n",
              "  --border-color: var(--jp-border-color2, #e0e0e0);\n",
              "  --background-color: var(--jp-layout-color0, white);\n",
              "  --background-color-row-even: var(--jp-layout-color1, white);\n",
              "  --background-color-row-odd: var(--jp-layout-color2, #eeeeee);\n",
              "}\n",
              "\n",
              "html[theme=\"dark\"],\n",
              "body[data-theme=\"dark\"],\n",
              "body.vscode-dark {\n",
              "  --font-color-primary: rgba(255, 255, 255, 1);\n",
              "  --font-color-secondary: rgba(255, 255, 255, 0.7);\n",
              "  --font-color-accent: rgb(173, 132, 190);\n",
              "  --border-color: #2e2e2e;\n",
              "  --background-color: #111111;\n",
              "  --background-color-row-even: #111111;\n",
              "  --background-color-row-odd: #313131;\n",
              "}\n",
              "\n",
              ".eerepr {\n",
              "  padding: 1em;\n",
              "  line-height: 1.5em;\n",
              "  min-width: 300px;\n",
              "  max-width: 1200px;\n",
              "  overflow-y: scroll;\n",
              "  max-height: 600px;\n",
              "  border: 1px solid var(--border-color);\n",
              "  font-family: monospace;\n",
              "  font-size: 14px;\n",
              "}\n",
              "\n",
              ".eerepr li {\n",
              "  list-style-type: none;\n",
              "  margin: 0;\n",
              "}\n",
              "\n",
              ".eerepr ul {\n",
              "  padding-left: 1.5em !important;\n",
              "  margin: 0;\n",
              "}\n",
              "\n",
              ".eerepr > ul {\n",
              "  padding-left: 0 !important;\n",
              "}\n",
              "\n",
              ".eerepr summary {\n",
              "  color: var(--font-color-secondary);\n",
              "  cursor: pointer;\n",
              "  margin: 0;\n",
              "}\n",
              "\n",
              ".eerepr summary:hover {\n",
              "  color: var(--font-color-primary);\n",
              "  background-color: var(--background-color-row-odd)\n",
              "}\n",
              "\n",
              ".ee-k {\n",
              "  color: var(--font-color-accent);\n",
              "  margin-right: 6px;\n",
              "}\n",
              "\n",
              ".ee-v {\n",
              "  color: var(--font-color-primary);\n",
              "}\n",
              "\n",
              ".eerepr details > summary::before {\n",
              "  content: '▼';\n",
              "  display: inline-block;\n",
              "  margin-right: 6px;\n",
              "  transition: transform 0.2s;\n",
              "  transform: rotate(-90deg);\n",
              "}\n",
              "\n",
              ".eerepr details[open] > summary::before {\n",
              "  transform: rotate(0deg);\n",
              "}\n",
              "\n",
              ".eerepr details summary::-webkit-details-marker {\n",
              "  display:none;\n",
              "}\n",
              "\n",
              ".eerepr details summary {\n",
              "  list-style-type: none;\n",
              "}\n",
              "</style><div class='eerepr'><ul><li><details><summary>Image projects/soilgrids-isric/sand_mean (6 bands)</summary><ul><li><span class='ee-k'>type:</span><span class='ee-v'>Image</span></li><li><span class='ee-k'>id:</span><span class='ee-v'>projects/soilgrids-isric/sand_mean</span></li><li><span class='ee-k'>version:</span><span class='ee-v'>1603128111786038</span></li><li><details><summary>bands: List (6 elements)</summary><ul><li><details><summary>0: \"sand_0-5cm_mean\", signed int16, PROJCS[&quot;World_Mollweide&quot;, \n",
              "  GEOGCS[&quot;GCS_WGS_1984&quot;, \n",
              "    DATUM[&quot;D_WGS_1984&quot;, \n",
              "      SPHEROID[&quot;WGS_1984&quot;, 6378137.0, 298.257223563]], \n",
              "    PRIMEM[&quot;Greenwich&quot;, 0.0], \n",
              "    UNIT[&quot;degree&quot;, 0.017453292519943295], \n",
              "    AXIS[&quot;Longitude&quot;, EAST], \n",
              "    AXIS[&quot;Latitude&quot;, NORTH]], \n",
              "  PROJECTION[&quot;Mollweide&quot;], \n",
              "  PARAMETER[&quot;semi_minor&quot;, 6378137.0], \n",
              "  PARAMETER[&quot;false_easting&quot;, 0.0], \n",
              "  PARAMETER[&quot;false_northing&quot;, 0.0], \n",
              "  PARAMETER[&quot;central_meridian&quot;, 0.0], \n",
              "  UNIT[&quot;m&quot;, 1.0], \n",
              "  AXIS[&quot;x&quot;, EAST], \n",
              "  AXIS[&quot;y&quot;, NORTH]], 143497x60728 px</summary><ul><li><span class='ee-k'>id:</span><span class='ee-v'>sand_0-5cm_mean</span></li><li><span class='ee-k'>crs:</span><span class='ee-v'>PROJCS[&quot;World_Mollweide&quot;, \n",
              "  GEOGCS[&quot;GCS_WGS_1984&quot;, \n",
              "    DATUM[&quot;D_WGS_1984&quot;, \n",
              "      SPHEROID[&quot;WGS_1984&quot;, 6378137.0, 298.257223563]], \n",
              "    PRIMEM[&quot;Greenwich&quot;, 0.0], \n",
              "    UNIT[&quot;degree&quot;, 0.017453292519943295], \n",
              "    AXIS[&quot;Longitude&quot;, EAST], \n",
              "    AXIS[&quot;Latitude&quot;, NORTH]], \n",
              "  PROJECTION[&quot;Mollweide&quot;], \n",
              "  PARAMETER[&quot;semi_minor&quot;, 6378137.0], \n",
              "  PARAMETER[&quot;false_easting&quot;, 0.0], \n",
              "  PARAMETER[&quot;false_northing&quot;, 0.0], \n",
              "  PARAMETER[&quot;central_meridian&quot;, 0.0], \n",
              "  UNIT[&quot;m&quot;, 1.0], \n",
              "  AXIS[&quot;x&quot;, EAST], \n",
              "  AXIS[&quot;y&quot;, NORTH]]</span></li><li><details><summary>crs_transform: List (6 elements)</summary><ul><li><span class='ee-k'>0:</span><span class='ee-v'>250</span></li><li><span class='ee-k'>1:</span><span class='ee-v'>0</span></li><li><span class='ee-k'>2:</span><span class='ee-v'>-17960764.70917111</span></li><li><span class='ee-k'>3:</span><span class='ee-v'>0</span></li><li><span class='ee-k'>4:</span><span class='ee-v'>-250</span></li><li><span class='ee-k'>5:</span><span class='ee-v'>8697788.131638981</span></li></ul></details></li><li><details><summary>data_type: signed int16</summary><ul><li><span class='ee-k'>type:</span><span class='ee-v'>PixelType</span></li><li><span class='ee-k'>max:</span><span class='ee-v'>32767</span></li><li><span class='ee-k'>min:</span><span class='ee-v'>-32768</span></li><li><span class='ee-k'>precision:</span><span class='ee-v'>int</span></li></ul></details></li><li><details><summary>dimensions: [143497, 60728]</summary><ul><li><span class='ee-k'>0:</span><span class='ee-v'>143497</span></li><li><span class='ee-k'>1:</span><span class='ee-v'>60728</span></li></ul></details></li></ul></details></li><li><details><summary>1: \"sand_5-15cm_mean\", signed int16, PROJCS[&quot;World_Mollweide&quot;, \n",
              "  GEOGCS[&quot;GCS_WGS_1984&quot;, \n",
              "    DATUM[&quot;D_WGS_1984&quot;, \n",
              "      SPHEROID[&quot;WGS_1984&quot;, 6378137.0, 298.257223563]], \n",
              "    PRIMEM[&quot;Greenwich&quot;, 0.0], \n",
              "    UNIT[&quot;degree&quot;, 0.017453292519943295], \n",
              "    AXIS[&quot;Longitude&quot;, EAST], \n",
              "    AXIS[&quot;Latitude&quot;, NORTH]], \n",
              "  PROJECTION[&quot;Mollweide&quot;], \n",
              "  PARAMETER[&quot;semi_minor&quot;, 6378137.0], \n",
              "  PARAMETER[&quot;false_easting&quot;, 0.0], \n",
              "  PARAMETER[&quot;false_northing&quot;, 0.0], \n",
              "  PARAMETER[&quot;central_meridian&quot;, 0.0], \n",
              "  UNIT[&quot;m&quot;, 1.0], \n",
              "  AXIS[&quot;x&quot;, EAST], \n",
              "  AXIS[&quot;y&quot;, NORTH]], 143497x60728 px</summary><ul><li><span class='ee-k'>id:</span><span class='ee-v'>sand_5-15cm_mean</span></li><li><span class='ee-k'>crs:</span><span class='ee-v'>PROJCS[&quot;World_Mollweide&quot;, \n",
              "  GEOGCS[&quot;GCS_WGS_1984&quot;, \n",
              "    DATUM[&quot;D_WGS_1984&quot;, \n",
              "      SPHEROID[&quot;WGS_1984&quot;, 6378137.0, 298.257223563]], \n",
              "    PRIMEM[&quot;Greenwich&quot;, 0.0], \n",
              "    UNIT[&quot;degree&quot;, 0.017453292519943295], \n",
              "    AXIS[&quot;Longitude&quot;, EAST], \n",
              "    AXIS[&quot;Latitude&quot;, NORTH]], \n",
              "  PROJECTION[&quot;Mollweide&quot;], \n",
              "  PARAMETER[&quot;semi_minor&quot;, 6378137.0], \n",
              "  PARAMETER[&quot;false_easting&quot;, 0.0], \n",
              "  PARAMETER[&quot;false_northing&quot;, 0.0], \n",
              "  PARAMETER[&quot;central_meridian&quot;, 0.0], \n",
              "  UNIT[&quot;m&quot;, 1.0], \n",
              "  AXIS[&quot;x&quot;, EAST], \n",
              "  AXIS[&quot;y&quot;, NORTH]]</span></li><li><details><summary>crs_transform: List (6 elements)</summary><ul><li><span class='ee-k'>0:</span><span class='ee-v'>250</span></li><li><span class='ee-k'>1:</span><span class='ee-v'>0</span></li><li><span class='ee-k'>2:</span><span class='ee-v'>-17960764.70917111</span></li><li><span class='ee-k'>3:</span><span class='ee-v'>0</span></li><li><span class='ee-k'>4:</span><span class='ee-v'>-250</span></li><li><span class='ee-k'>5:</span><span class='ee-v'>8697788.131638981</span></li></ul></details></li><li><details><summary>data_type: signed int16</summary><ul><li><span class='ee-k'>type:</span><span class='ee-v'>PixelType</span></li><li><span class='ee-k'>max:</span><span class='ee-v'>32767</span></li><li><span class='ee-k'>min:</span><span class='ee-v'>-32768</span></li><li><span class='ee-k'>precision:</span><span class='ee-v'>int</span></li></ul></details></li><li><details><summary>dimensions: [143497, 60728]</summary><ul><li><span class='ee-k'>0:</span><span class='ee-v'>143497</span></li><li><span class='ee-k'>1:</span><span class='ee-v'>60728</span></li></ul></details></li></ul></details></li><li><details><summary>2: \"sand_15-30cm_mean\", signed int16, PROJCS[&quot;World_Mollweide&quot;, \n",
              "  GEOGCS[&quot;GCS_WGS_1984&quot;, \n",
              "    DATUM[&quot;D_WGS_1984&quot;, \n",
              "      SPHEROID[&quot;WGS_1984&quot;, 6378137.0, 298.257223563]], \n",
              "    PRIMEM[&quot;Greenwich&quot;, 0.0], \n",
              "    UNIT[&quot;degree&quot;, 0.017453292519943295], \n",
              "    AXIS[&quot;Longitude&quot;, EAST], \n",
              "    AXIS[&quot;Latitude&quot;, NORTH]], \n",
              "  PROJECTION[&quot;Mollweide&quot;], \n",
              "  PARAMETER[&quot;semi_minor&quot;, 6378137.0], \n",
              "  PARAMETER[&quot;false_easting&quot;, 0.0], \n",
              "  PARAMETER[&quot;false_northing&quot;, 0.0], \n",
              "  PARAMETER[&quot;central_meridian&quot;, 0.0], \n",
              "  UNIT[&quot;m&quot;, 1.0], \n",
              "  AXIS[&quot;x&quot;, EAST], \n",
              "  AXIS[&quot;y&quot;, NORTH]], 143497x60728 px</summary><ul><li><span class='ee-k'>id:</span><span class='ee-v'>sand_15-30cm_mean</span></li><li><span class='ee-k'>crs:</span><span class='ee-v'>PROJCS[&quot;World_Mollweide&quot;, \n",
              "  GEOGCS[&quot;GCS_WGS_1984&quot;, \n",
              "    DATUM[&quot;D_WGS_1984&quot;, \n",
              "      SPHEROID[&quot;WGS_1984&quot;, 6378137.0, 298.257223563]], \n",
              "    PRIMEM[&quot;Greenwich&quot;, 0.0], \n",
              "    UNIT[&quot;degree&quot;, 0.017453292519943295], \n",
              "    AXIS[&quot;Longitude&quot;, EAST], \n",
              "    AXIS[&quot;Latitude&quot;, NORTH]], \n",
              "  PROJECTION[&quot;Mollweide&quot;], \n",
              "  PARAMETER[&quot;semi_minor&quot;, 6378137.0], \n",
              "  PARAMETER[&quot;false_easting&quot;, 0.0], \n",
              "  PARAMETER[&quot;false_northing&quot;, 0.0], \n",
              "  PARAMETER[&quot;central_meridian&quot;, 0.0], \n",
              "  UNIT[&quot;m&quot;, 1.0], \n",
              "  AXIS[&quot;x&quot;, EAST], \n",
              "  AXIS[&quot;y&quot;, NORTH]]</span></li><li><details><summary>crs_transform: List (6 elements)</summary><ul><li><span class='ee-k'>0:</span><span class='ee-v'>250</span></li><li><span class='ee-k'>1:</span><span class='ee-v'>0</span></li><li><span class='ee-k'>2:</span><span class='ee-v'>-17960764.70917111</span></li><li><span class='ee-k'>3:</span><span class='ee-v'>0</span></li><li><span class='ee-k'>4:</span><span class='ee-v'>-250</span></li><li><span class='ee-k'>5:</span><span class='ee-v'>8697788.131638981</span></li></ul></details></li><li><details><summary>data_type: signed int16</summary><ul><li><span class='ee-k'>type:</span><span class='ee-v'>PixelType</span></li><li><span class='ee-k'>max:</span><span class='ee-v'>32767</span></li><li><span class='ee-k'>min:</span><span class='ee-v'>-32768</span></li><li><span class='ee-k'>precision:</span><span class='ee-v'>int</span></li></ul></details></li><li><details><summary>dimensions: [143497, 60728]</summary><ul><li><span class='ee-k'>0:</span><span class='ee-v'>143497</span></li><li><span class='ee-k'>1:</span><span class='ee-v'>60728</span></li></ul></details></li></ul></details></li><li><details><summary>3: \"sand_30-60cm_mean\", signed int16, PROJCS[&quot;World_Mollweide&quot;, \n",
              "  GEOGCS[&quot;GCS_WGS_1984&quot;, \n",
              "    DATUM[&quot;D_WGS_1984&quot;, \n",
              "      SPHEROID[&quot;WGS_1984&quot;, 6378137.0, 298.257223563]], \n",
              "    PRIMEM[&quot;Greenwich&quot;, 0.0], \n",
              "    UNIT[&quot;degree&quot;, 0.017453292519943295], \n",
              "    AXIS[&quot;Longitude&quot;, EAST], \n",
              "    AXIS[&quot;Latitude&quot;, NORTH]], \n",
              "  PROJECTION[&quot;Mollweide&quot;], \n",
              "  PARAMETER[&quot;semi_minor&quot;, 6378137.0], \n",
              "  PARAMETER[&quot;false_easting&quot;, 0.0], \n",
              "  PARAMETER[&quot;false_northing&quot;, 0.0], \n",
              "  PARAMETER[&quot;central_meridian&quot;, 0.0], \n",
              "  UNIT[&quot;m&quot;, 1.0], \n",
              "  AXIS[&quot;x&quot;, EAST], \n",
              "  AXIS[&quot;y&quot;, NORTH]], 143497x60728 px</summary><ul><li><span class='ee-k'>id:</span><span class='ee-v'>sand_30-60cm_mean</span></li><li><span class='ee-k'>crs:</span><span class='ee-v'>PROJCS[&quot;World_Mollweide&quot;, \n",
              "  GEOGCS[&quot;GCS_WGS_1984&quot;, \n",
              "    DATUM[&quot;D_WGS_1984&quot;, \n",
              "      SPHEROID[&quot;WGS_1984&quot;, 6378137.0, 298.257223563]], \n",
              "    PRIMEM[&quot;Greenwich&quot;, 0.0], \n",
              "    UNIT[&quot;degree&quot;, 0.017453292519943295], \n",
              "    AXIS[&quot;Longitude&quot;, EAST], \n",
              "    AXIS[&quot;Latitude&quot;, NORTH]], \n",
              "  PROJECTION[&quot;Mollweide&quot;], \n",
              "  PARAMETER[&quot;semi_minor&quot;, 6378137.0], \n",
              "  PARAMETER[&quot;false_easting&quot;, 0.0], \n",
              "  PARAMETER[&quot;false_northing&quot;, 0.0], \n",
              "  PARAMETER[&quot;central_meridian&quot;, 0.0], \n",
              "  UNIT[&quot;m&quot;, 1.0], \n",
              "  AXIS[&quot;x&quot;, EAST], \n",
              "  AXIS[&quot;y&quot;, NORTH]]</span></li><li><details><summary>crs_transform: List (6 elements)</summary><ul><li><span class='ee-k'>0:</span><span class='ee-v'>250</span></li><li><span class='ee-k'>1:</span><span class='ee-v'>0</span></li><li><span class='ee-k'>2:</span><span class='ee-v'>-17960764.70917111</span></li><li><span class='ee-k'>3:</span><span class='ee-v'>0</span></li><li><span class='ee-k'>4:</span><span class='ee-v'>-250</span></li><li><span class='ee-k'>5:</span><span class='ee-v'>8697788.131638981</span></li></ul></details></li><li><details><summary>data_type: signed int16</summary><ul><li><span class='ee-k'>type:</span><span class='ee-v'>PixelType</span></li><li><span class='ee-k'>max:</span><span class='ee-v'>32767</span></li><li><span class='ee-k'>min:</span><span class='ee-v'>-32768</span></li><li><span class='ee-k'>precision:</span><span class='ee-v'>int</span></li></ul></details></li><li><details><summary>dimensions: [143497, 60728]</summary><ul><li><span class='ee-k'>0:</span><span class='ee-v'>143497</span></li><li><span class='ee-k'>1:</span><span class='ee-v'>60728</span></li></ul></details></li></ul></details></li><li><details><summary>4: \"sand_60-100cm_mean\", signed int16, PROJCS[&quot;World_Mollweide&quot;, \n",
              "  GEOGCS[&quot;GCS_WGS_1984&quot;, \n",
              "    DATUM[&quot;D_WGS_1984&quot;, \n",
              "      SPHEROID[&quot;WGS_1984&quot;, 6378137.0, 298.257223563]], \n",
              "    PRIMEM[&quot;Greenwich&quot;, 0.0], \n",
              "    UNIT[&quot;degree&quot;, 0.017453292519943295], \n",
              "    AXIS[&quot;Longitude&quot;, EAST], \n",
              "    AXIS[&quot;Latitude&quot;, NORTH]], \n",
              "  PROJECTION[&quot;Mollweide&quot;], \n",
              "  PARAMETER[&quot;semi_minor&quot;, 6378137.0], \n",
              "  PARAMETER[&quot;false_easting&quot;, 0.0], \n",
              "  PARAMETER[&quot;false_northing&quot;, 0.0], \n",
              "  PARAMETER[&quot;central_meridian&quot;, 0.0], \n",
              "  UNIT[&quot;m&quot;, 1.0], \n",
              "  AXIS[&quot;x&quot;, EAST], \n",
              "  AXIS[&quot;y&quot;, NORTH]], 143497x60728 px</summary><ul><li><span class='ee-k'>id:</span><span class='ee-v'>sand_60-100cm_mean</span></li><li><span class='ee-k'>crs:</span><span class='ee-v'>PROJCS[&quot;World_Mollweide&quot;, \n",
              "  GEOGCS[&quot;GCS_WGS_1984&quot;, \n",
              "    DATUM[&quot;D_WGS_1984&quot;, \n",
              "      SPHEROID[&quot;WGS_1984&quot;, 6378137.0, 298.257223563]], \n",
              "    PRIMEM[&quot;Greenwich&quot;, 0.0], \n",
              "    UNIT[&quot;degree&quot;, 0.017453292519943295], \n",
              "    AXIS[&quot;Longitude&quot;, EAST], \n",
              "    AXIS[&quot;Latitude&quot;, NORTH]], \n",
              "  PROJECTION[&quot;Mollweide&quot;], \n",
              "  PARAMETER[&quot;semi_minor&quot;, 6378137.0], \n",
              "  PARAMETER[&quot;false_easting&quot;, 0.0], \n",
              "  PARAMETER[&quot;false_northing&quot;, 0.0], \n",
              "  PARAMETER[&quot;central_meridian&quot;, 0.0], \n",
              "  UNIT[&quot;m&quot;, 1.0], \n",
              "  AXIS[&quot;x&quot;, EAST], \n",
              "  AXIS[&quot;y&quot;, NORTH]]</span></li><li><details><summary>crs_transform: List (6 elements)</summary><ul><li><span class='ee-k'>0:</span><span class='ee-v'>250</span></li><li><span class='ee-k'>1:</span><span class='ee-v'>0</span></li><li><span class='ee-k'>2:</span><span class='ee-v'>-17960764.70917111</span></li><li><span class='ee-k'>3:</span><span class='ee-v'>0</span></li><li><span class='ee-k'>4:</span><span class='ee-v'>-250</span></li><li><span class='ee-k'>5:</span><span class='ee-v'>8697788.131638981</span></li></ul></details></li><li><details><summary>data_type: signed int16</summary><ul><li><span class='ee-k'>type:</span><span class='ee-v'>PixelType</span></li><li><span class='ee-k'>max:</span><span class='ee-v'>32767</span></li><li><span class='ee-k'>min:</span><span class='ee-v'>-32768</span></li><li><span class='ee-k'>precision:</span><span class='ee-v'>int</span></li></ul></details></li><li><details><summary>dimensions: [143497, 60728]</summary><ul><li><span class='ee-k'>0:</span><span class='ee-v'>143497</span></li><li><span class='ee-k'>1:</span><span class='ee-v'>60728</span></li></ul></details></li></ul></details></li><li><details><summary>5: \"sand_100-200cm_mean\", signed int16, PROJCS[&quot;World_Mollweide&quot;, \n",
              "  GEOGCS[&quot;GCS_WGS_1984&quot;, \n",
              "    DATUM[&quot;D_WGS_1984&quot;, \n",
              "      SPHEROID[&quot;WGS_1984&quot;, 6378137.0, 298.257223563]], \n",
              "    PRIMEM[&quot;Greenwich&quot;, 0.0], \n",
              "    UNIT[&quot;degree&quot;, 0.017453292519943295], \n",
              "    AXIS[&quot;Longitude&quot;, EAST], \n",
              "    AXIS[&quot;Latitude&quot;, NORTH]], \n",
              "  PROJECTION[&quot;Mollweide&quot;], \n",
              "  PARAMETER[&quot;semi_minor&quot;, 6378137.0], \n",
              "  PARAMETER[&quot;false_easting&quot;, 0.0], \n",
              "  PARAMETER[&quot;false_northing&quot;, 0.0], \n",
              "  PARAMETER[&quot;central_meridian&quot;, 0.0], \n",
              "  UNIT[&quot;m&quot;, 1.0], \n",
              "  AXIS[&quot;x&quot;, EAST], \n",
              "  AXIS[&quot;y&quot;, NORTH]], 143497x60728 px</summary><ul><li><span class='ee-k'>id:</span><span class='ee-v'>sand_100-200cm_mean</span></li><li><span class='ee-k'>crs:</span><span class='ee-v'>PROJCS[&quot;World_Mollweide&quot;, \n",
              "  GEOGCS[&quot;GCS_WGS_1984&quot;, \n",
              "    DATUM[&quot;D_WGS_1984&quot;, \n",
              "      SPHEROID[&quot;WGS_1984&quot;, 6378137.0, 298.257223563]], \n",
              "    PRIMEM[&quot;Greenwich&quot;, 0.0], \n",
              "    UNIT[&quot;degree&quot;, 0.017453292519943295], \n",
              "    AXIS[&quot;Longitude&quot;, EAST], \n",
              "    AXIS[&quot;Latitude&quot;, NORTH]], \n",
              "  PROJECTION[&quot;Mollweide&quot;], \n",
              "  PARAMETER[&quot;semi_minor&quot;, 6378137.0], \n",
              "  PARAMETER[&quot;false_easting&quot;, 0.0], \n",
              "  PARAMETER[&quot;false_northing&quot;, 0.0], \n",
              "  PARAMETER[&quot;central_meridian&quot;, 0.0], \n",
              "  UNIT[&quot;m&quot;, 1.0], \n",
              "  AXIS[&quot;x&quot;, EAST], \n",
              "  AXIS[&quot;y&quot;, NORTH]]</span></li><li><details><summary>crs_transform: List (6 elements)</summary><ul><li><span class='ee-k'>0:</span><span class='ee-v'>250</span></li><li><span class='ee-k'>1:</span><span class='ee-v'>0</span></li><li><span class='ee-k'>2:</span><span class='ee-v'>-17960764.70917111</span></li><li><span class='ee-k'>3:</span><span class='ee-v'>0</span></li><li><span class='ee-k'>4:</span><span class='ee-v'>-250</span></li><li><span class='ee-k'>5:</span><span class='ee-v'>8697788.131638981</span></li></ul></details></li><li><details><summary>data_type: signed int16</summary><ul><li><span class='ee-k'>type:</span><span class='ee-v'>PixelType</span></li><li><span class='ee-k'>max:</span><span class='ee-v'>32767</span></li><li><span class='ee-k'>min:</span><span class='ee-v'>-32768</span></li><li><span class='ee-k'>precision:</span><span class='ee-v'>int</span></li></ul></details></li><li><details><summary>dimensions: [143497, 60728]</summary><ul><li><span class='ee-k'>0:</span><span class='ee-v'>143497</span></li><li><span class='ee-k'>1:</span><span class='ee-v'>60728</span></li></ul></details></li></ul></details></li></ul></details></li><li><details><summary>properties: Object (14 properties)</summary><ul><li><span class='ee-k'>Code_version:</span><span class='ee-v'>v2.0.0</span></li><li><span class='ee-k'>Covariates:</span><span class='ee-v'>ALR1:clm_wcl_srdyrsum,clm_wcl_s07rad,clm_wcl_bio07,clm_wcl_srdyrstd,clm_wcl_s08rad,clm_wcl_p05tot,mor_mrg_vbf,clm_wcl_s04rad,mor_env_demm,clm_mod_lstd02std,depth,clm_wcl_bio18,mor_mrg_vdp,clm_wcl_p04tot,clm_wcl_p09tot,clm_mod_lstd12std,clm_mod_lstd05std,clm_mod_lstd11std,clm_wcl_bio16,clm_wcl_bio17,clm_wcl_p10tot,clm_mod_lstd04std,clm_mod_lstd01std,clm_wcl_bio19,clm_wcl_p12tot,ALR2:depth,clm_wcl_s07rad,clm_wcl_srdyrsum,clm_wcl_p05tot,clm_wcl_s08rad,mor_mrg_vbf,mor_env_demm,clm_wcl_srdyrstd,clm_wcl_s04rad,clm_mod_lstd02std,clm_wcl_p04tot,mor_mrg_vdp,clm_wcl_bio18,clm_mod_lstd12std,clm_mod_lstd11std,clm_mod_lstd04std,clm_mod_lstd05std,clm_wcl_bio16,clm_mod_lstd01std,clm_wcl_p09tot,clm_wcl_bio19,clm_wcl_p10tot,clm_wcl_bio17,clm_wcl_bio07,clm_wcl_p12tot,clm_wcl_bio15,clm_wcl_bio08</span></li><li><span class='ee-k'>Litter_layers:</span><span class='ee-v'>FALSE</span></li><li><span class='ee-k'>Mapped_units:</span><span class='ee-v'>g/kg</span></li><li><span class='ee-k'>Model:</span><span class='ee-v'>Quantile Regression Forests</span></li><li><span class='ee-k'>Model_type:</span><span class='ee-v'>ranger</span></li><li><span class='ee-k'>Mtry:</span><span class='ee-v'>10,10</span></li><li><span class='ee-k'>Number_trees:</span><span class='ee-v'>150,150</span></li><li><span class='ee-k'>Outputs_version:</span><span class='ee-v'>RUN10</span></li><li><span class='ee-k'>Transformation:</span><span class='ee-v'>alr</span></li><li><span class='ee-k'>WoSIS_version:</span><span class='ee-v'>Data stream 7</span></li><li><span class='ee-k'>description:</span><span class='ee-v'>Sand content in g/kg at 6 standard depths. Predictions were derived using a digital soil mapping approach based on Quantile Random Forest, drawing on a global compilation of soil profile data and environmental layers. \n",
              "\n",
              "**Soil Property DOI**\n",
              "[https://doi.org/10.17027/isric-soilgrids.713396fa-1687-11ea-a7c0-a0481ca9e724](https://doi.org/10.17027/isric-soilgrids.713396fa-1687-11ea-a7c0-a0481ca9e724)\n",
              "\n",
              "**Terms of use**\n",
              "This version of SoilGrids is available to you by [ISRIC — World Soil Information](isric.org) under the CC-BY 4.0 License.\n",
              "\n",
              "**Important notice**\n",
              "[SoilGrids](https://www.isric.org/explore/soilgrids/) is designed as a globally consistent, data-driven system that predicts soil properties and classes using global covariates and globally fitted models. If you are looking for soil information on national and/or local levels we advise to compare SoilGrids predictions with soil maps derived from national and local soil geographical databases. National soil maps are usually based on more detailed input soil information and therefore are often more accurate than SoilGrids (within the local coverage area). For an overview of national and regional soil databases, please refer to the Soil Geographic Databases compendium.\n",
              "\n",
              "**Citation**\n",
              "de Sousa, L.,  Poggio, L.,  Batjes, N.H., Heuvelink, G.B.M., Kempen, B., Ribeiro, E.,  Rossiter, D. SoilGrids 2.0: producing quality-assessed soil information for the globe. Under submission to SOIL\n",
              "\n",
              "\n",
              "</span></li><li><span class='ee-k'>system:asset_size:</span><span class='ee-v'>16770608396</span></li><li><span class='ee-k'>title:</span><span class='ee-v'>Sand content, mean</span></li></ul></details></li></ul></details></li></ul></div></div>"
            ],
            "text/plain": [
              "<ee.image.Image at 0x228bcbf26e0>"
            ]
          },
          "execution_count": 17,
          "metadata": {},
          "output_type": "execute_result"
        }
      ],
      "source": [
        "\n",
        "data_downloader.initialize_query(configuration['DATA_DOWNLOAD']['property'])\n"
      ]
    },
    {
      "cell_type": "code",
      "execution_count": 18,
      "metadata": {},
      "outputs": [
        {
          "data": {
            "text/html": [
              "\n",
              "            <style>\n",
              "                .geemap-dark {\n",
              "                    --jp-widgets-color: white;\n",
              "                    --jp-widgets-label-color: white;\n",
              "                    --jp-ui-font-color1: white;\n",
              "                    --jp-layout-color2: #454545;\n",
              "                    background-color: #383838;\n",
              "                }\n",
              "\n",
              "                .geemap-dark .jupyter-button {\n",
              "                    --jp-layout-color3: #383838;\n",
              "                }\n",
              "\n",
              "                .geemap-colab {\n",
              "                    background-color: var(--colab-primary-surface-color, white);\n",
              "                }\n",
              "\n",
              "                .geemap-colab .jupyter-button {\n",
              "                    --jp-layout-color3: var(--colab-primary-surface-color, white);\n",
              "                }\n",
              "            </style>\n",
              "            "
            ],
            "text/plain": [
              "<IPython.core.display.HTML object>"
            ]
          },
          "metadata": {},
          "output_type": "display_data"
        },
        {
          "data": {
            "text/plain": [
              "['sand_0-5cm_mean',\n",
              " 'sand_5-15cm_mean',\n",
              " 'sand_15-30cm_mean',\n",
              " 'sand_30-60cm_mean',\n",
              " 'sand_60-100cm_mean',\n",
              " 'sand_100-200cm_mean']"
            ]
          },
          "execution_count": 18,
          "metadata": {},
          "output_type": "execute_result"
        }
      ],
      "source": [
        "band_names = data_downloader.query.bandNames().getInfo()\n",
        "band_names"
      ]
    },
    {
      "cell_type": "markdown",
      "metadata": {},
      "source": [
        "### Soil Data visualization"
      ]
    },
    {
      "cell_type": "code",
      "execution_count": 19,
      "metadata": {},
      "outputs": [
        {
          "data": {
            "text/html": [
              "\n",
              "            <style>\n",
              "                .geemap-dark {\n",
              "                    --jp-widgets-color: white;\n",
              "                    --jp-widgets-label-color: white;\n",
              "                    --jp-ui-font-color1: white;\n",
              "                    --jp-layout-color2: #454545;\n",
              "                    background-color: #383838;\n",
              "                }\n",
              "\n",
              "                .geemap-dark .jupyter-button {\n",
              "                    --jp-layout-color3: #383838;\n",
              "                }\n",
              "\n",
              "                .geemap-colab {\n",
              "                    background-color: var(--colab-primary-surface-color, white);\n",
              "                }\n",
              "\n",
              "                .geemap-colab .jupyter-button {\n",
              "                    --jp-layout-color3: var(--colab-primary-surface-color, white);\n",
              "                }\n",
              "            </style>\n",
              "            "
            ],
            "text/plain": [
              "<IPython.core.display.HTML object>"
            ]
          },
          "metadata": {},
          "output_type": "display_data"
        },
        {
          "data": {
            "application/vnd.jupyter.widget-view+json": {
              "model_id": "d295caddfca244aa88bd69d716f09f1f",
              "version_major": 2,
              "version_minor": 0
            },
            "text/plain": [
              "Map(center=[-1.37, 38.01], controls=(WidgetControl(options=['position', 'transparent_bg'], position='topright'…"
            ]
          },
          "execution_count": 19,
          "metadata": {},
          "output_type": "execute_result"
        }
      ],
      "source": [
        "import geemap\n",
        "\n",
        "\n",
        "# Create a map\n",
        "Map = geemap.Map(center=[-1.37, 38.01], zoom=6) \n",
        "\n",
        "# Define visualization parameters\n",
        "\n",
        "vis_parameters = {'min': 50, 'max': 1000,\n",
        " 'palette': ['5d5851','635a4b','6a5b44','715c3d','785e36','7e5f30','856129','8c6222','92641c','996515','a0660e','a66808','ad6901']}\n",
        "# Add the image layer\n",
        "Map.addLayer(data_downloader.query.select(band_names[0]), vis_parameters, band_names[0])\n",
        "\n",
        "# Display the map\n",
        "Map"
      ]
    },
    {
      "cell_type": "markdown",
      "metadata": {
        "id": "W45ua5PN65bm"
      },
      "source": [
        "### Download data for a specific administrative level\n",
        "\n",
        "You can target data at different administrative levels using the configuration keys:\n",
        "\n",
        "1. Set `ADM0_NAME` for the country (required).\n",
        "2. Set `ADM1_NAME` for the first-level admin (province/state) if you want a subregion.\n",
        "3. Set `ADM2_NAME` for the district/municipality if available and needed.\n",
        "\n",
        "\n",
        "**Example configuration (Kenya, Coast province):**\n",
        "\n",
        "\n",
        "```python\n",
        "configuration['DATA_DOWNLOAD'].update({\n",
        "'ADM0_NAME': 'Kenya',\n",
        "'ADM1_NAME': 'Coast',\n",
        "'ADM2_NAME': None,\n",
        "\n",
        "})\n"
      ]
    },
    {
      "cell_type": "code",
      "execution_count": 21,
      "metadata": {
        "id": "ksVXiHPX65bn"
      },
      "outputs": [
        {
          "data": {
            "text/html": [
              "\n",
              "            <style>\n",
              "                .geemap-dark {\n",
              "                    --jp-widgets-color: white;\n",
              "                    --jp-widgets-label-color: white;\n",
              "                    --jp-ui-font-color1: white;\n",
              "                    --jp-layout-color2: #454545;\n",
              "                    background-color: #383838;\n",
              "                }\n",
              "\n",
              "                .geemap-dark .jupyter-button {\n",
              "                    --jp-layout-color3: #383838;\n",
              "                }\n",
              "\n",
              "                .geemap-colab {\n",
              "                    background-color: var(--colab-primary-surface-color, white);\n",
              "                }\n",
              "\n",
              "                .geemap-colab .jupyter-button {\n",
              "                    --jp-layout-color3: var(--colab-primary-surface-color, white);\n",
              "                }\n",
              "            </style>\n",
              "            "
            ],
            "text/plain": [
              "<IPython.core.display.HTML object>"
            ]
          },
          "metadata": {},
          "output_type": "display_data"
        },
        {
          "name": "stdout",
          "output_type": "stream",
          "text": [
            "data will be processed for: Kericho\n"
          ]
        },
        {
          "data": {
            "application/vnd.jupyter.widget-view+json": {
              "model_id": "1a49ba5c70b44f97bb187fd1f5ce2342",
              "version_major": 2,
              "version_minor": 0
            },
            "text/plain": [
              "Map(center=[-1.37, 38.01], controls=(WidgetControl(options=['position', 'transparent_bg'], position='topright'…"
            ]
          },
          "execution_count": 21,
          "metadata": {},
          "output_type": "execute_result"
        }
      ],
      "source": [
        "\n",
        "soil_image = data_downloader.get_adm_level_data(adm_level='ADM1', feature_name = configuration['DATA_DOWNLOAD']['ADM1_NAME'])\n",
        "\n",
        "Map = geemap.Map(center=[-1.37, 38.01], zoom=8) \n",
        "\n",
        "Map.addLayer(soil_image.select(band_names[0]), vis_parameters, band_names[0])\n",
        "\n",
        "# Display the map\n",
        "Map"
      ]
    }
  ],
  "metadata": {
    "colab": {
      "include_colab_link": true,
      "provenance": []
    },
    "kernelspec": {
      "display_name": "ee_env",
      "language": "python",
      "name": "python3"
    },
    "language_info": {
      "codemirror_mode": {
        "name": "ipython",
        "version": 3
      },
      "file_extension": ".py",
      "mimetype": "text/x-python",
      "name": "python",
      "nbconvert_exporter": "python",
      "pygments_lexer": "ipython3",
      "version": "3.10.0"
    }
  },
  "nbformat": 4,
  "nbformat_minor": 0
}
