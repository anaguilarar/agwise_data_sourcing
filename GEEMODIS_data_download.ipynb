{
  "nbformat": 4,
  "nbformat_minor": 0,
  "metadata": {
    "colab": {
      "provenance": [],
      "authorship_tag": "ABX9TyNcPw7Q3mJmKdCDeC+rCd0L",
      "include_colab_link": true
    },
    "kernelspec": {
      "name": "python3",
      "display_name": "Python 3"
    },
    "language_info": {
      "name": "python"
    }
  },
  "cells": [
    {
      "cell_type": "markdown",
      "metadata": {
        "id": "view-in-github",
        "colab_type": "text"
      },
      "source": [
        "<a href=\"https://colab.research.google.com/github/anaguilarar/agwise_data_sourcing/blob/main/GEEMODIS_data_download.ipynb\" target=\"_parent\"><img src=\"https://colab.research.google.com/assets/colab-badge.svg\" alt=\"Open In Colab\"/></a>"
      ]
    },
    {
      "cell_type": "code",
      "execution_count": null,
      "metadata": {
        "id": "5qFQLTD4grP_"
      },
      "outputs": [],
      "source": [
        "### INITIAL configuration\n",
        "\n",
        "configuration = {\n",
        "    'GENERAL_SETTINGS':{\n",
        "      'ee_project_name': 'ee-anaguilarar'\n",
        "\n",
        "      },\n",
        "    'PREPROCESSING':{\n",
        "        'crop_mask': True,\n",
        "        'crop_mask_product': 'ESA'\n",
        "    },\n",
        "    'DATA_DOWNLOAD':\n",
        "     {\n",
        "      'ADM0_NAME': 'Kenya',\n",
        "      'ADM1_NAME': 'Coast',\n",
        "      'ADM2_NAME': None,\n",
        "      'product': 'MOD13Q1',\n",
        "      'starting_date': '2023-01-01',\n",
        "      'ending_date': '2023-12-01',\n",
        "\n",
        "    }\n",
        "}\n"
      ]
    },
    {
      "cell_type": "code",
      "source": [
        "import os\n",
        "\n",
        "if not os.path.exists('agwise_data_sourcing'):\n",
        "  !git clone https://github.com/anaguilarar/agwise_data_sourcing.git\n",
        "\n",
        "os.chdir('/content/agwise_data_sourcing')\n"
      ],
      "metadata": {
        "id": "lmjAUfWvnVSZ"
      },
      "execution_count": null,
      "outputs": []
    },
    {
      "cell_type": "code",
      "source": [
        "from gee_datasets.gee_data import GEEMODIS\n",
        "import ee\n",
        "ee.Initialize(project=configuration['GENERAL_SETTINGS']['ee_project_name'])\n"
      ],
      "metadata": {
        "id": "n4xEg51YnfV1"
      },
      "execution_count": null,
      "outputs": []
    },
    {
      "cell_type": "code",
      "source": [
        "data_downloader = GEEMODIS(configuration['DATA_DOWNLOAD']['ADM0_NAME'], configuration['DATA_DOWNLOAD']['product'])\n",
        "data_downloader.initialize_query(configuration['DATA_DOWNLOAD']['starting_date'], configuration['DATA_DOWNLOAD']['ending_date'])\n"
      ],
      "metadata": {
        "id": "x7AIeeo_kql6"
      },
      "execution_count": null,
      "outputs": []
    },
    {
      "cell_type": "code",
      "source": [
        "data_downloader.plot_time_series('NDVI')"
      ],
      "metadata": {
        "id": "KAYxxOvtrvgf"
      },
      "execution_count": null,
      "outputs": []
    },
    {
      "cell_type": "code",
      "source": [
        "from gee_datasets.processing_funs import fill_gaps_linear, smooth_ts_using_savitsky_golay_modis, summarize_collection_tots\n",
        "import matplotlib.pyplot as plt\n",
        "\n",
        "data_filled = fill_gaps_linear(data_downloader.query, 'NDVI')\n",
        "\n",
        "print(\"First smoothed image properties:\",\n",
        "      ee.Image(data_filled.first()).getInfo()[\"properties\"])\n",
        "\n"
      ],
      "metadata": {
        "id": "LDoBDhQDigxt"
      },
      "execution_count": null,
      "outputs": []
    },
    {
      "cell_type": "code",
      "source": [
        "band = 'NDVI'\n",
        "result = smooth_ts_using_savitsky_golay_modis(data_filled.select('NDVI'), window_size = 5)\n",
        "print(\"First smoothed image properties:\",\n",
        "      ee.Image(result.first()).getInfo()[\"properties\"])\n"
      ],
      "metadata": {
        "id": "IxSVUorIkkVR"
      },
      "execution_count": null,
      "outputs": []
    },
    {
      "cell_type": "code",
      "source": [
        "from utils.plots import plot_time_series_from_ic\n",
        "\n",
        "band2 = 'NDVI_smooth'\n",
        "\n",
        "df = plot_time_series_from_ic(\n",
        "    ic=ee.ImageCollection(result),\n",
        "    band=band2,\n",
        "    summarize_fn=summarize_collection_tots,\n",
        "    region_filter=data_downloader.country_filter,\n",
        "    title=f\"{band2} smoothed time series\"\n",
        ")\n"
      ],
      "metadata": {
        "id": "FrnibwTRnJbb"
      },
      "execution_count": null,
      "outputs": []
    },
    {
      "cell_type": "markdown",
      "source": [
        "## CROP MASK"
      ],
      "metadata": {
        "id": "spysHon7ULY1"
      }
    },
    {
      "cell_type": "code",
      "source": [
        "from gee_datasets.gee_data import GEECropMask, GEEMODIS\n",
        "\n",
        "\n",
        "data_downloader = GEEMODIS(configuration['DATA_DOWNLOAD']['ADM0_NAME'], configuration['DATA_DOWNLOAD']['product'])\n",
        "data_downloader.initialize_query(configuration['DATA_DOWNLOAD']['starting_date'], configuration['DATA_DOWNLOAD']['ending_date'])\n",
        "\n",
        "\n",
        "cropmask_downloader = GEECropMask(configuration['DATA_DOWNLOAD']['ADM0_NAME'], configuration['PREPROCESSING']['crop_mask_product'])\n",
        "cropmask_downloader.initialize_query()\n",
        "\n",
        "crop_mask = ee.Image(cropmask_downloader.query.first()).clip(cropmask_downloader.country_filter).eq(cropmask_downloader.crop_mask_value[cropmask_downloader.product])\n",
        "\n"
      ],
      "metadata": {
        "id": "h-mY4wk-UFTv"
      },
      "execution_count": null,
      "outputs": []
    },
    {
      "cell_type": "code",
      "source": [
        "from gee_datasets.processing_funs import fill_gaps_linear, smooth_ts_using_savitsky_golay_modis, summarize_collection_tots\n",
        "\n",
        "data_filled = fill_gaps_linear(data_downloader.query, 'NDVI')\n",
        "\n",
        "\n",
        "datamasked = data_downloader.query.first().clip(cropmask_downloader.country_filter).updateMask(crop_mask)\n",
        "\n",
        "data_filled_masked = data_filled.first().clip(cropmask_downloader.country_filter).updateMask(crop_mask)\n",
        "\n",
        "data_filled_SG = smooth_ts_using_savitsky_golay_modis(data_filled.select('NDVI'), window_size = 5)\n",
        "\n",
        "\n",
        "data_filled_SG_masked = data_filled_SG.first().clip(cropmask_downloader.country_filter).updateMask(crop_mask)"
      ],
      "metadata": {
        "id": "6L4xi79xdIM8"
      },
      "execution_count": null,
      "outputs": []
    },
    {
      "cell_type": "code",
      "source": [
        "import geemap\n",
        "\n",
        "\n",
        "# Create a map\n",
        "Map = geemap.Map(center=[-1.37, 38.01], zoom=8)  # Centered on Kitui, Kenya (example coords)\n",
        "\n",
        "# Define visualization parameters\n",
        "vis_params = {\n",
        "    'min': 0,\n",
        "    'max': 1,\n",
        "    'palette': ['white', 'green']  # Adjust based on your mask values\n",
        "}\n",
        "\n",
        "vis_NDVIparams = {\n",
        "    'min': 0,\n",
        "    'max': 10000,\n",
        "\n",
        "}\n",
        "\n",
        "# Add the image layer\n",
        "Map.addLayer(crop_mask, vis_params, \"Masked Crop Image\")\n",
        "\n",
        "Map.addLayer(datamasked.select('NDVI'), vis_NDVIparams, \"NDVI Image\")\n",
        "Map.addLayer(data_filled_masked.select('NDVI'), vis_NDVIparams, \"NDVI Image filled\")\n",
        "Map.addLayer(data_filled_SG_masked.select('NDVI_smooth'), vis_NDVIparams, \"NDVI Image filled + SG\")\n",
        "\n",
        "# Display the map\n",
        "Map"
      ],
      "metadata": {
        "id": "cCGZmQj3Yrpg"
      },
      "execution_count": null,
      "outputs": []
    }
  ]
}