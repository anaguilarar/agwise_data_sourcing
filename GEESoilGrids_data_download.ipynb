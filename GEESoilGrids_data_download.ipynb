{
  "cells": [
    {
      "cell_type": "markdown",
      "metadata": {
        "id": "view-in-github",
        "colab_type": "text"
      },
      "source": [
        "<a href=\"https://colab.research.google.com/github/anaguilarar/agwise_data_sourcing/blob/main/GEESoilGrids_data_download.ipynb\" target=\"_parent\"><img src=\"https://colab.research.google.com/assets/colab-badge.svg\" alt=\"Open In Colab\"/></a>"
      ]
    },
    {
      "cell_type": "markdown",
      "metadata": {
        "id": "NB2s0vAKTlEY"
      },
      "source": [
        "# Ag-Wise Data Sourcing\n",
        "\n",
        "## SOIL Downloader\n",
        "\n",
        "This tutorial explains how to use this notebook to download soil data from google earth engine"
      ]
    },
    {
      "cell_type": "code",
      "execution_count": null,
      "metadata": {
        "id": "ZA_EThRLUbhc"
      },
      "outputs": [],
      "source": [
        "import os\n",
        "\n",
        "if not os.path.exists('agwise_data_sourcing'):\n",
        "  !git clone https://github.com/anaguilarar/agwise_data_sourcing.git\n",
        "  os.chdir('/content/agwise_data_sourcing')\n",
        "else:\n",
        "  os.chdir('/content/agwise_data_sourcing')"
      ]
    },
    {
      "cell_type": "markdown",
      "metadata": {
        "id": "TO7bOnPoUb-M"
      },
      "source": [
        "## Workflow Overview\n",
        "1. **Country Example Configuration** – Select area and soil property.\n",
        "2. **Soil Data visualization** – Visualize the soil property."
      ]
    },
    {
      "cell_type": "markdown",
      "metadata": {
        "id": "8UC9olg_Un8r"
      },
      "source": [
        "### Country Example Configuration\n",
        "\n",
        "\n",
        "In this section, you will set the parameters for your analysis. Modify the dictionary below to match your region and product of interest.\n",
        "\n",
        "\n",
        "- `ADM0_NAME` define the administrative levels.\n",
        "- `property` sets the MODIS/VIIRS dataset.\n",
        "\n",
        "\n",
        "Example: soil extraction for **Kenya – Coast Province (2023)**"
      ]
    },
    {
      "cell_type": "code",
      "execution_count": null,
      "metadata": {
        "id": "5qFQLTD4grP_",
        "outputId": "b3076cd4-39bb-4668-b0a2-3ea35a68b964"
      },
      "outputs": [
        {
          "data": {
            "text/html": [
              "\n",
              "            <style>\n",
              "                .geemap-dark {\n",
              "                    --jp-widgets-color: white;\n",
              "                    --jp-widgets-label-color: white;\n",
              "                    --jp-ui-font-color1: white;\n",
              "                    --jp-layout-color2: #454545;\n",
              "                    background-color: #383838;\n",
              "                }\n",
              "\n",
              "                .geemap-dark .jupyter-button {\n",
              "                    --jp-layout-color3: #383838;\n",
              "                }\n",
              "\n",
              "                .geemap-colab {\n",
              "                    background-color: var(--colab-primary-surface-color, white);\n",
              "                }\n",
              "\n",
              "                .geemap-colab .jupyter-button {\n",
              "                    --jp-layout-color3: var(--colab-primary-surface-color, white);\n",
              "                }\n",
              "            </style>\n",
              "            "
            ],
            "text/plain": [
              "<IPython.core.display.HTML object>"
            ]
          },
          "metadata": {},
          "output_type": "display_data"
        }
      ],
      "source": [
        "### INITIAL configuration\n",
        "\n",
        "configuration = {\n",
        "    'GENERAL_SETTINGS':{\n",
        "      'ee_project_name': 'ee-anaguilarar'\n",
        "      },\n",
        "\n",
        "    'DATA_DOWNLOAD':\n",
        "     {\n",
        "      'ADM0_NAME': 'Kenya',\n",
        "      'ADM1_NAME': 'Kericho',\n",
        "      'ADM2_NAME': None,\n",
        "      'property': 'sand',\n",
        "\n",
        "    }\n",
        "}\n"
      ]
    },
    {
      "cell_type": "markdown",
      "metadata": {
        "id": "dV8pNJPIU_-c"
      },
      "source": [
        "- The first time you run this notebook, GEE will request authentication (`ee.Authenticate()`).\n",
        "- Depending on your area size, the data request might take a few minutes."
      ]
    },
    {
      "cell_type": "code",
      "execution_count": null,
      "metadata": {
        "id": "n4xEg51YnfV1",
        "outputId": "c1349316-7b05-4431-83c6-10c2c1ed1a5f"
      },
      "outputs": [
        {
          "data": {
            "text/html": [
              "\n",
              "            <style>\n",
              "                .geemap-dark {\n",
              "                    --jp-widgets-color: white;\n",
              "                    --jp-widgets-label-color: white;\n",
              "                    --jp-ui-font-color1: white;\n",
              "                    --jp-layout-color2: #454545;\n",
              "                    background-color: #383838;\n",
              "                }\n",
              "\n",
              "                .geemap-dark .jupyter-button {\n",
              "                    --jp-layout-color3: #383838;\n",
              "                }\n",
              "\n",
              "                .geemap-colab {\n",
              "                    background-color: var(--colab-primary-surface-color, white);\n",
              "                }\n",
              "\n",
              "                .geemap-colab .jupyter-button {\n",
              "                    --jp-layout-color3: var(--colab-primary-surface-color, white);\n",
              "                }\n",
              "            </style>\n",
              "            "
            ],
            "text/plain": [
              "<IPython.core.display.HTML object>"
            ]
          },
          "metadata": {},
          "output_type": "display_data"
        }
      ],
      "source": [
        "from gee_datasets.gee_data import GEESoilGrids\n",
        "import ee\n",
        "ee.Initialize(project=configuration['GENERAL_SETTINGS']['ee_project_name'])\n"
      ]
    },
    {
      "cell_type": "markdown",
      "metadata": {
        "id": "wiLbRsbIVJjl"
      },
      "source": [
        "### Data Downloading\n",
        "\n",
        "\n",
        "This section connects to Google Earth Engine, defines your region of interest, and retrieves the vegetation index time series.\n",
        "\n",
        "\n",
        "Steps:\n",
        "1. **Initialize Google Earth Engine (GEE)** with your project.\n",
        "2. **Create the downloader object** (`GEESoilGrids`).\n",
        "3. **Run the query** to retrieve the imagery."
      ]
    },
    {
      "cell_type": "code",
      "execution_count": null,
      "metadata": {
        "id": "YGJ_MarU7rGW",
        "outputId": "6a28e7a4-5d97-4f08-b070-33f0ebb87c92"
      },
      "outputs": [
        {
          "data": {
            "text/html": [
              "\n",
              "            <style>\n",
              "                .geemap-dark {\n",
              "                    --jp-widgets-color: white;\n",
              "                    --jp-widgets-label-color: white;\n",
              "                    --jp-ui-font-color1: white;\n",
              "                    --jp-layout-color2: #454545;\n",
              "                    background-color: #383838;\n",
              "                }\n",
              "\n",
              "                .geemap-dark .jupyter-button {\n",
              "                    --jp-layout-color3: #383838;\n",
              "                }\n",
              "\n",
              "                .geemap-colab {\n",
              "                    background-color: var(--colab-primary-surface-color, white);\n",
              "                }\n",
              "\n",
              "                .geemap-colab .jupyter-button {\n",
              "                    --jp-layout-color3: var(--colab-primary-surface-color, white);\n",
              "                }\n",
              "            </style>\n",
              "            "
            ],
            "text/plain": [
              "<IPython.core.display.HTML object>"
            ]
          },
          "metadata": {},
          "output_type": "display_data"
        },
        {
          "data": {
            "text/plain": [
              "{'bdod': 'projects/soilgrids-isric/bdod_mean',\n",
              " 'cec': 'projects/soilgrids-isric/cec_mean',\n",
              " 'cfvo': 'projects/soilgrids-isric/cfvo_mean',\n",
              " 'clay': 'projects/soilgrids-isric/clay_mean',\n",
              " 'sand': 'projects/soilgrids-isric/sand_mean',\n",
              " 'silt': 'projects/soilgrids-isric/silt_mean',\n",
              " 'nitrogen': 'projects/soilgrids-isric/nitrogen_mean',\n",
              " 'soc': 'projects/soilgrids-isric/soc_mean',\n",
              " 'phh2o': 'projects/soilgrids-isric/phh2o_mean',\n",
              " 'wv0010': 'ISRIC/SoilGrids250m/v2_0/wv0010',\n",
              " 'wv0033': 'ISRIC/SoilGrids250m/v2_0/wv0033',\n",
              " 'wv1500': 'ISRIC/SoilGrids250m/v2_0/wv1500'}"
            ]
          },
          "execution_count": 16,
          "metadata": {},
          "output_type": "execute_result"
        }
      ],
      "source": [
        "data_downloader = GEESoilGrids(configuration['DATA_DOWNLOAD']['ADM0_NAME'])\n",
        "\n",
        "data_downloader.list_of_products"
      ]
    },
    {
      "cell_type": "code",
      "execution_count": null,
      "metadata": {
        "id": "x7AIeeo_kql6"
      },
      "outputs": [],
      "source": [
        "\n",
        "data_downloader.initialize_query(configuration['DATA_DOWNLOAD']['property'])\n"
      ]
    },
    {
      "cell_type": "code",
      "execution_count": null,
      "metadata": {
        "id": "6hjLpzuN7rGW",
        "outputId": "5d9443f9-80b9-40a0-cd92-5d84ef6a3913"
      },
      "outputs": [
        {
          "data": {
            "text/html": [
              "\n",
              "            <style>\n",
              "                .geemap-dark {\n",
              "                    --jp-widgets-color: white;\n",
              "                    --jp-widgets-label-color: white;\n",
              "                    --jp-ui-font-color1: white;\n",
              "                    --jp-layout-color2: #454545;\n",
              "                    background-color: #383838;\n",
              "                }\n",
              "\n",
              "                .geemap-dark .jupyter-button {\n",
              "                    --jp-layout-color3: #383838;\n",
              "                }\n",
              "\n",
              "                .geemap-colab {\n",
              "                    background-color: var(--colab-primary-surface-color, white);\n",
              "                }\n",
              "\n",
              "                .geemap-colab .jupyter-button {\n",
              "                    --jp-layout-color3: var(--colab-primary-surface-color, white);\n",
              "                }\n",
              "            </style>\n",
              "            "
            ],
            "text/plain": [
              "<IPython.core.display.HTML object>"
            ]
          },
          "metadata": {},
          "output_type": "display_data"
        },
        {
          "data": {
            "text/plain": [
              "['sand_0-5cm_mean',\n",
              " 'sand_5-15cm_mean',\n",
              " 'sand_15-30cm_mean',\n",
              " 'sand_30-60cm_mean',\n",
              " 'sand_60-100cm_mean',\n",
              " 'sand_100-200cm_mean']"
            ]
          },
          "execution_count": 18,
          "metadata": {},
          "output_type": "execute_result"
        }
      ],
      "source": [
        "band_names = data_downloader.query.bandNames().getInfo()\n",
        "band_names"
      ]
    },
    {
      "cell_type": "markdown",
      "metadata": {
        "id": "GM4NWmXq7rGX"
      },
      "source": [
        "### Soil Data visualization"
      ]
    },
    {
      "cell_type": "code",
      "execution_count": null,
      "metadata": {
        "id": "J67IKVQx7rGX",
        "outputId": "be443eae-aa3d-4575-cc06-27bf0274abef",
        "colab": {
          "referenced_widgets": [
            "d295caddfca244aa88bd69d716f09f1f"
          ]
        }
      },
      "outputs": [
        {
          "data": {
            "text/html": [
              "\n",
              "            <style>\n",
              "                .geemap-dark {\n",
              "                    --jp-widgets-color: white;\n",
              "                    --jp-widgets-label-color: white;\n",
              "                    --jp-ui-font-color1: white;\n",
              "                    --jp-layout-color2: #454545;\n",
              "                    background-color: #383838;\n",
              "                }\n",
              "\n",
              "                .geemap-dark .jupyter-button {\n",
              "                    --jp-layout-color3: #383838;\n",
              "                }\n",
              "\n",
              "                .geemap-colab {\n",
              "                    background-color: var(--colab-primary-surface-color, white);\n",
              "                }\n",
              "\n",
              "                .geemap-colab .jupyter-button {\n",
              "                    --jp-layout-color3: var(--colab-primary-surface-color, white);\n",
              "                }\n",
              "            </style>\n",
              "            "
            ],
            "text/plain": [
              "<IPython.core.display.HTML object>"
            ]
          },
          "metadata": {},
          "output_type": "display_data"
        },
        {
          "data": {
            "application/vnd.jupyter.widget-view+json": {
              "model_id": "d295caddfca244aa88bd69d716f09f1f",
              "version_major": 2,
              "version_minor": 0
            },
            "text/plain": [
              "Map(center=[-1.37, 38.01], controls=(WidgetControl(options=['position', 'transparent_bg'], position='topright'…"
            ]
          },
          "execution_count": 19,
          "metadata": {},
          "output_type": "execute_result"
        }
      ],
      "source": [
        "import geemap\n",
        "\n",
        "\n",
        "# Create a map\n",
        "Map = geemap.Map(center=[-1.37, 38.01], zoom=6)\n",
        "\n",
        "# Define visualization parameters\n",
        "\n",
        "vis_parameters = {'min': 50, 'max': 1000,\n",
        " 'palette': ['5d5851','635a4b','6a5b44','715c3d','785e36','7e5f30','856129','8c6222','92641c','996515','a0660e','a66808','ad6901']}\n",
        "# Add the image layer\n",
        "Map.addLayer(data_downloader.query.select(band_names[0]), vis_parameters, band_names[0])\n",
        "\n",
        "# Display the map\n",
        "Map"
      ]
    },
    {
      "cell_type": "markdown",
      "metadata": {
        "id": "W45ua5PN65bm"
      },
      "source": [
        "### Download data for a specific administrative level\n",
        "\n",
        "You can target data at different administrative levels using the configuration keys:\n",
        "\n",
        "1. Set `ADM0_NAME` for the country (required).\n",
        "2. Set `ADM1_NAME` for the first-level admin (province/state) if you want a subregion.\n",
        "3. Set `ADM2_NAME` for the district/municipality if available and needed.\n",
        "\n",
        "\n",
        "**Example configuration (Kenya, Coast province):**\n",
        "\n",
        "\n",
        "```python\n",
        "configuration['DATA_DOWNLOAD'].update({\n",
        "'ADM0_NAME': 'Kenya',\n",
        "'ADM1_NAME': 'Coast',\n",
        "'ADM2_NAME': None,\n",
        "\n",
        "})\n"
      ]
    },
    {
      "cell_type": "code",
      "execution_count": null,
      "metadata": {
        "id": "ksVXiHPX65bn",
        "outputId": "6febffb9-5a8a-40e4-8113-abae7f0e2520",
        "colab": {
          "referenced_widgets": [
            "1a49ba5c70b44f97bb187fd1f5ce2342"
          ]
        }
      },
      "outputs": [
        {
          "data": {
            "text/html": [
              "\n",
              "            <style>\n",
              "                .geemap-dark {\n",
              "                    --jp-widgets-color: white;\n",
              "                    --jp-widgets-label-color: white;\n",
              "                    --jp-ui-font-color1: white;\n",
              "                    --jp-layout-color2: #454545;\n",
              "                    background-color: #383838;\n",
              "                }\n",
              "\n",
              "                .geemap-dark .jupyter-button {\n",
              "                    --jp-layout-color3: #383838;\n",
              "                }\n",
              "\n",
              "                .geemap-colab {\n",
              "                    background-color: var(--colab-primary-surface-color, white);\n",
              "                }\n",
              "\n",
              "                .geemap-colab .jupyter-button {\n",
              "                    --jp-layout-color3: var(--colab-primary-surface-color, white);\n",
              "                }\n",
              "            </style>\n",
              "            "
            ],
            "text/plain": [
              "<IPython.core.display.HTML object>"
            ]
          },
          "metadata": {},
          "output_type": "display_data"
        },
        {
          "name": "stdout",
          "output_type": "stream",
          "text": [
            "data will be processed for: Kericho\n"
          ]
        },
        {
          "data": {
            "application/vnd.jupyter.widget-view+json": {
              "model_id": "1a49ba5c70b44f97bb187fd1f5ce2342",
              "version_major": 2,
              "version_minor": 0
            },
            "text/plain": [
              "Map(center=[-1.37, 38.01], controls=(WidgetControl(options=['position', 'transparent_bg'], position='topright'…"
            ]
          },
          "execution_count": 21,
          "metadata": {},
          "output_type": "execute_result"
        }
      ],
      "source": [
        "\n",
        "soil_image = data_downloader.get_adm_level_data(adm_level='ADM1', feature_name = configuration['DATA_DOWNLOAD']['ADM1_NAME'])\n",
        "\n",
        "Map = geemap.Map(center=[-1.37, 38.01], zoom=8)\n",
        "\n",
        "Map.addLayer(soil_image.select(band_names[0]), vis_parameters, band_names[0])\n",
        "\n",
        "# Display the map\n",
        "Map"
      ]
    }
  ],
  "metadata": {
    "colab": {
      "provenance": [],
      "include_colab_link": true
    },
    "kernelspec": {
      "display_name": "ee_env",
      "language": "python",
      "name": "python3"
    },
    "language_info": {
      "codemirror_mode": {
        "name": "ipython",
        "version": 3
      },
      "file_extension": ".py",
      "mimetype": "text/x-python",
      "name": "python",
      "nbconvert_exporter": "python",
      "pygments_lexer": "ipython3",
      "version": "3.10.0"
    }
  },
  "nbformat": 4,
  "nbformat_minor": 0
}